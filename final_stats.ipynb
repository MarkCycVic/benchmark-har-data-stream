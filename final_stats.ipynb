{
 "cells": [
  {
   "cell_type": "code",
   "execution_count": 1,
   "metadata": {},
   "outputs": [],
   "source": [
    "# Exponent analysis table generation.\n",
    "import numpy as np\n",
    "precisions=[52]\n",
    "exponents= [2,3,4,5,11]\n",
    "f1 = np.zeros((len(precisions), len(exponents), 98)) # Number of classifiers in models.csv\n",
    "for instr in ['node']:#['node', 'whole']:\n",
    "    for pi, p in enumerate(precisions):\n",
    "        for ei, e in enumerate(exponents):\n",
    "            file1 = np.genfromtxt('beluga_{}_results/{}_output_{}'.format(instr, e, p), delimiter=',', dtype=np.float)\n",
    "            for atts in file1:\n",
    "                if (atts[2]==84800 and atts[0]>=84) or (atts[2]==14200 and atts[0]<84): #difference in datasets\n",
    "                    f1[pi,ei,int(atts[0])]+= atts[-2]\n",
    "f1/=30\n",
    "arr = np.zeros((2,3,4,5))\n",
    "for k in range(12):\n",
    "    for e, b in enumerate(f1):\n",
    "        for p, a in enumerate(b):\n",
    "            arr[0][k//4][k%4][p]=((a[:12]/f1[-1][-1][:12]-1)*100)[k]\n",
    "            arr[1][k//4][k%4][p]=((a[84:96]/f1[-1][-1][84:96]-1)*100)[k]\n",
    "for i in range(2):\n",
    "    for j in [0,2]:\n",
    "        for k in range(4):\n",
    "            print(\"&\\cTab{{{:.2f}}}&\\cTab{{{:.2f}}}&\\cTab{{{:.2f}}}&\\cTab{{{:.2f}}}\".format(arr[i][j][k][0],arr[i][j][k][1],arr[i][j][k][2],arr[i][j][k][3]))"
   ]
  },
  {
   "cell_type": "code",
   "execution_count": 27,
   "metadata": {
    "scrolled": false
   },
   "outputs": [],
   "source": [
    "# Precision analysis table generation. Change instrumentation as needed.\n",
    "instrumentation='whole'\n",
    "import numpy as np\n",
    "precisions=[1,2,3,4,5,6,52]\n",
    "exponents= [11]\n",
    "f1 = np.zeros((len(precisions), len(exponents), 98)) # Number of classifiers in models.csv\n",
    "for instr in [instrumentation]:#['node', 'whole']:\n",
    "    for pi, p in enumerate(precisions):\n",
    "        for ei, e in enumerate(exponents):\n",
    "            file1 = np.genfromtxt('beluga_{}_results/{}_output_{}'.format(instr, e, p), delimiter=',', dtype=np.float)\n",
    "            for atts in file1:\n",
    "                if (atts[2]==84800 and atts[0]>=84) or (atts[2]==14200 and atts[0]<84): #difference in datasets\n",
    "                    f1[pi,ei,int(atts[0])]+= atts[-2]\n",
    "f1/=30\n",
    "arr = np.zeros((2,3,4,7))\n",
    "for k in range(12):\n",
    "    for p, b in enumerate(f1):\n",
    "        for e, a in enumerate(b):\n",
    "            arr[0][k//4][k%4][p]=((a[:12]/f1[-1][-1][:12]-1)*100)[k]\n",
    "            arr[1][k//4][k%4][p]=((a[84:96]/f1[-1][-1][84:96]-1)*100)[k]\n",
    "for i in range(2):\n",
    "    for j in range(3):\n",
    "        for k in range(4):\n",
    "            print(\"&\\dTab{{{:.2f}}}&\\dTab{{{:.2f}}}&\\dTab{{{:.2f}}}&\\dTab{{{:.2f}}}&\\dTab{{{:.2f}}}&\\dTab{{{:.2f}}}\".format(arr[i][j][k][0],arr[i][j][k][1],arr[i][j][k][2],arr[i][j][k][3],arr[i][j][k][4],arr[i][j][k][5],arr[i][j][k][6]))"
   ]
  },
  {
   "cell_type": "code",
   "execution_count": 1,
   "metadata": {},
   "outputs": [
    {
     "ename": "NameError",
     "evalue": "name 'plt' is not defined",
     "output_type": "error",
     "traceback": [
      "\u001b[1;31m---------------------------------------------------------------------------\u001b[0m",
      "\u001b[1;31mNameError\u001b[0m                                 Traceback (most recent call last)",
      "\u001b[1;32m<ipython-input-1-81899df424a4>\u001b[0m in \u001b[0;36m<module>\u001b[1;34m\u001b[0m\n\u001b[0;32m     16\u001b[0m         \u001b[0marr\u001b[0m\u001b[1;33m[\u001b[0m\u001b[0mi\u001b[0m\u001b[1;33m]\u001b[0m\u001b[1;33m[\u001b[0m\u001b[0mj\u001b[0m\u001b[1;33m+\u001b[0m\u001b[1;36m4\u001b[0m\u001b[1;33m]\u001b[0m\u001b[1;33m=\u001b[0m\u001b[0mf1\u001b[0m\u001b[1;33m[\u001b[0m\u001b[0mi\u001b[0m\u001b[1;33m]\u001b[0m\u001b[1;33m[\u001b[0m\u001b[1;36m84\u001b[0m\u001b[1;33m:\u001b[0m\u001b[1;36m96\u001b[0m\u001b[1;33m]\u001b[0m\u001b[1;33m[\u001b[0m\u001b[0mk\u001b[0m\u001b[1;33m]\u001b[0m\u001b[1;33m\u001b[0m\u001b[1;33m\u001b[0m\u001b[0m\n\u001b[0;32m     17\u001b[0m \u001b[1;31m# Plotting\u001b[0m\u001b[1;33m\u001b[0m\u001b[1;33m\u001b[0m\u001b[1;33m\u001b[0m\u001b[0m\n\u001b[1;32m---> 18\u001b[1;33m \u001b[0mplt\u001b[0m\u001b[1;33m.\u001b[0m\u001b[0mrcParams\u001b[0m\u001b[1;33m.\u001b[0m\u001b[0mupdate\u001b[0m\u001b[1;33m(\u001b[0m\u001b[1;33m{\u001b[0m\u001b[1;34m'font.size'\u001b[0m\u001b[1;33m:\u001b[0m \u001b[1;36m24\u001b[0m\u001b[1;33m}\u001b[0m\u001b[1;33m)\u001b[0m\u001b[1;33m\u001b[0m\u001b[1;33m\u001b[0m\u001b[0m\n\u001b[0m\u001b[0;32m     19\u001b[0m \u001b[0mfig\u001b[0m \u001b[1;33m=\u001b[0m \u001b[0mplt\u001b[0m\u001b[1;33m.\u001b[0m\u001b[0mfigure\u001b[0m\u001b[1;33m(\u001b[0m\u001b[0mfigsize\u001b[0m\u001b[1;33m=\u001b[0m\u001b[1;33m(\u001b[0m\u001b[1;36m30\u001b[0m\u001b[1;33m,\u001b[0m \u001b[1;36m12\u001b[0m\u001b[1;33m)\u001b[0m\u001b[1;33m)\u001b[0m\u001b[1;33m\u001b[0m\u001b[1;33m\u001b[0m\u001b[0m\n\u001b[0;32m     20\u001b[0m \u001b[0mgs\u001b[0m \u001b[1;33m=\u001b[0m \u001b[0mfig\u001b[0m\u001b[1;33m.\u001b[0m\u001b[0madd_gridspec\u001b[0m\u001b[1;33m(\u001b[0m\u001b[1;36m1\u001b[0m\u001b[1;33m,\u001b[0m\u001b[1;36m2\u001b[0m\u001b[1;33m,\u001b[0m \u001b[0mhspace\u001b[0m\u001b[1;33m=\u001b[0m\u001b[1;36m0\u001b[0m\u001b[1;33m,\u001b[0m \u001b[0mwspace\u001b[0m\u001b[1;33m=\u001b[0m\u001b[1;36m0\u001b[0m\u001b[1;33m)\u001b[0m\u001b[1;33m\u001b[0m\u001b[1;33m\u001b[0m\u001b[0m\n",
      "\u001b[1;31mNameError\u001b[0m: name 'plt' is not defined"
     ]
    }
   ],
   "source": [
    "#\n",
    "import numpy as np\n",
    "#Array generation\n",
    "model=[['node',0,52,11],['node',1,52,11],['node',1,3,4],['whole',1,3,4]]\n",
    "f1 = np.zeros((len(model), 98)) # Number of classifiers in models.csv\n",
    "for i, m in enumerate(model):\n",
    "    file1 = np.genfromtxt('beluga_{}_results/{}_output_{}'.format(m[0], m[-1], m[-2]), delimiter=',', dtype=np.float)\n",
    "    for atts in file1:\n",
    "        if (atts[2]==84800 and atts[0]>=84) or (atts[2]==14200 and atts[0]<84): #difference in datasets\n",
    "            f1[i,int(atts[0])]+= atts[-2]\n",
    "f1/=30\n",
    "arr = np.zeros((4,8))\n",
    "for i,m in enumerate(model):\n",
    "    for j, k in enumerate(range(4*m[1],4*(m[1]+1))):\n",
    "        arr[i][j]=f1[i][:12][k]\n",
    "        arr[i][j+4]=f1[i][84:96][k]\n"
   ]
  },
  {
   "cell_type": "code",
   "execution_count": 7,
   "metadata": {},
   "outputs": [
    {
     "data": {
      "text/plain": [
       "<Figure size 2160x864 with 0 Axes>"
      ]
     },
     "metadata": {},
     "output_type": "display_data"
    }
   ],
   "source": [
    "import matplotlib.pyplot as plt\n",
    "# Plotting\n",
    "plt.rcParams.update({'font.size': 24})\n",
    "fig = plt.figure(figsize=(30, 12))\n",
    "gs = fig.add_gridspec(1,2, hspace=0.05, wspace=0.05)\n",
    "(ax1, ax2) = gs.subplots(sharey='row')\n",
    "\n",
    "for i, dataset,ax in zip(range(2),['banos', 'recofit'],(ax1,ax2)):\n",
    "    x = range(1,5)\n",
    "    ax.plot(x, arr[0][4*i:4*i+4], c=\"red\", linestyle='--', marker='o', markersize=4, label=\"Uninstrumented, 0.6 MB\")\n",
    "    ax.plot(x, arr[1][4*i:4*i+4], c=\"red\", marker='o', markersize=4, label=\"Uninstrumented, 1.2 MB\")\n",
    "    ax.plot(x, arr[2][4*i:4*i+4], c=\"blue\", marker='o', markersize=4, label=\"Node, 1.2 MB\")\n",
    "    ax.plot(x, arr[3][4*i:4*i+4], c=\"green\", marker='o', markersize=4, label=\"Whole, 1.2 MB\")\n",
    "    ax.set_xticks(x) # values\n",
    "    ax.set_xticklabels([1,5,10,50]) # labels\n",
    "    \n",
    "for ax in [ax1,ax2]:\n",
    "    ax.set(xlabel='Number of trees', ylabel='F1')\n",
    "    ax.set_ylim([0, 0.65])\n",
    "    ax.grid()\n",
    "    ax.spines['top'].set_visible(False)\n",
    "    ax.spines['right'].set_visible(False)\n",
    "    ax.spines['bottom'].set_visible(False)\n",
    "    ax.spines['left'].set_visible(False)\n",
    "    ax.label_outer()\n",
    "plt.savefig(\"gain.png\")\n",
    "plt.clf()"
   ]
  },
  {
   "cell_type": "code",
   "execution_count": null,
   "metadata": {},
   "outputs": [],
   "source": []
  }
 ],
 "metadata": {
  "kernelspec": {
   "display_name": "Python 3",
   "language": "python",
   "name": "python3"
  },
  "language_info": {
   "codemirror_mode": {
    "name": "ipython",
    "version": 3
   },
   "file_extension": ".py",
   "mimetype": "text/x-python",
   "name": "python",
   "nbconvert_exporter": "python",
   "pygments_lexer": "ipython3",
   "version": "3.8.3"
  }
 },
 "nbformat": 4,
 "nbformat_minor": 4
}
